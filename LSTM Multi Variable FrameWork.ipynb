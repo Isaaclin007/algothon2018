{
 "cells": [
  {
   "cell_type": "code",
   "execution_count": 111,
   "metadata": {
    "collapsed": false
   },
   "outputs": [],
   "source": [
    "from math import sqrt\n",
    "from numpy import concatenate\n",
    "from matplotlib import pyplot\n",
    "import pandas as pd\n",
    "from datetime import datetime\n",
    "from sklearn.preprocessing import MinMaxScaler\n",
    "from sklearn.preprocessing import LabelEncoder\n",
    "from sklearn.metrics import mean_squared_error\n",
    "from keras.models import Sequential\n",
    "from keras.layers import Dense\n",
    "from keras.layers import LSTM\n",
    "import plotly.plotly as py\n",
    "import plotly.graph_objs as go\n",
    "import numpy as np\n",
    "import seaborn as sns\n",
    "\n",
    "%matplotlib inline"
   ]
  },
  {
   "cell_type": "code",
   "execution_count": 124,
   "metadata": {
    "collapsed": true
   },
   "outputs": [],
   "source": [
    "import quandl\n",
    "data = quandl.get('BCHARTS/KRAKENUSD', returns='pandas')"
   ]
  },
  {
   "cell_type": "code",
   "execution_count": 125,
   "metadata": {
    "collapsed": false
   },
   "outputs": [
    {
     "data": {
      "text/html": [
       "<div>\n",
       "<table border=\"1\" class=\"dataframe\">\n",
       "  <thead>\n",
       "    <tr style=\"text-align: right;\">\n",
       "      <th></th>\n",
       "      <th>Open</th>\n",
       "      <th>High</th>\n",
       "      <th>Low</th>\n",
       "      <th>Close</th>\n",
       "      <th>Volume (BTC)</th>\n",
       "      <th>Volume (Currency)</th>\n",
       "      <th>Weighted Price</th>\n",
       "    </tr>\n",
       "    <tr>\n",
       "      <th>Date</th>\n",
       "      <th></th>\n",
       "      <th></th>\n",
       "      <th></th>\n",
       "      <th></th>\n",
       "      <th></th>\n",
       "      <th></th>\n",
       "      <th></th>\n",
       "    </tr>\n",
       "  </thead>\n",
       "  <tbody>\n",
       "    <tr>\n",
       "      <th>2014-01-07</th>\n",
       "      <td>874.67040</td>\n",
       "      <td>892.06753</td>\n",
       "      <td>810.00000</td>\n",
       "      <td>810.00000</td>\n",
       "      <td>15.622378</td>\n",
       "      <td>13151.472844</td>\n",
       "      <td>841.835522</td>\n",
       "    </tr>\n",
       "    <tr>\n",
       "      <th>2014-01-08</th>\n",
       "      <td>810.00000</td>\n",
       "      <td>899.84281</td>\n",
       "      <td>788.00000</td>\n",
       "      <td>824.98287</td>\n",
       "      <td>19.182756</td>\n",
       "      <td>16097.329584</td>\n",
       "      <td>839.156269</td>\n",
       "    </tr>\n",
       "    <tr>\n",
       "      <th>2014-01-09</th>\n",
       "      <td>825.56345</td>\n",
       "      <td>870.00000</td>\n",
       "      <td>807.42084</td>\n",
       "      <td>841.86934</td>\n",
       "      <td>8.158335</td>\n",
       "      <td>6784.249982</td>\n",
       "      <td>831.572913</td>\n",
       "    </tr>\n",
       "    <tr>\n",
       "      <th>2014-01-10</th>\n",
       "      <td>839.99000</td>\n",
       "      <td>857.34056</td>\n",
       "      <td>817.00000</td>\n",
       "      <td>857.33056</td>\n",
       "      <td>8.024510</td>\n",
       "      <td>6780.220188</td>\n",
       "      <td>844.938794</td>\n",
       "    </tr>\n",
       "    <tr>\n",
       "      <th>2014-01-11</th>\n",
       "      <td>858.20000</td>\n",
       "      <td>918.05471</td>\n",
       "      <td>857.16554</td>\n",
       "      <td>899.84105</td>\n",
       "      <td>18.748285</td>\n",
       "      <td>16698.566929</td>\n",
       "      <td>890.671709</td>\n",
       "    </tr>\n",
       "  </tbody>\n",
       "</table>\n",
       "</div>"
      ],
      "text/plain": [
       "                 Open       High        Low      Close  Volume (BTC)  \\\n",
       "Date                                                                   \n",
       "2014-01-07  874.67040  892.06753  810.00000  810.00000     15.622378   \n",
       "2014-01-08  810.00000  899.84281  788.00000  824.98287     19.182756   \n",
       "2014-01-09  825.56345  870.00000  807.42084  841.86934      8.158335   \n",
       "2014-01-10  839.99000  857.34056  817.00000  857.33056      8.024510   \n",
       "2014-01-11  858.20000  918.05471  857.16554  899.84105     18.748285   \n",
       "\n",
       "            Volume (Currency)  Weighted Price  \n",
       "Date                                           \n",
       "2014-01-07       13151.472844      841.835522  \n",
       "2014-01-08       16097.329584      839.156269  \n",
       "2014-01-09        6784.249982      831.572913  \n",
       "2014-01-10        6780.220188      844.938794  \n",
       "2014-01-11       16698.566929      890.671709  "
      ]
     },
     "execution_count": 125,
     "metadata": {},
     "output_type": "execute_result"
    }
   ],
   "source": [
    "data.head()"
   ]
  },
  {
   "cell_type": "code",
   "execution_count": 50,
   "metadata": {
    "collapsed": false
   },
   "outputs": [
    {
     "name": "stdout",
     "output_type": "stream",
     "text": [
      "<class 'pandas.core.frame.DataFrame'>\n",
      "DatetimeIndex: 1747 entries, 2014-01-07 to 2018-10-19\n",
      "Data columns (total 7 columns):\n",
      "Open                 1747 non-null float64\n",
      "High                 1747 non-null float64\n",
      "Low                  1747 non-null float64\n",
      "Close                1747 non-null float64\n",
      "Volume (BTC)         1747 non-null float64\n",
      "Volume (Currency)    1747 non-null float64\n",
      "Weighted Price       1747 non-null float64\n",
      "dtypes: float64(7)\n",
      "memory usage: 109.2 KB\n"
     ]
    }
   ],
   "source": [
    "data.info()"
   ]
  },
  {
   "cell_type": "code",
   "execution_count": 51,
   "metadata": {
    "collapsed": false
   },
   "outputs": [
    {
     "data": {
      "text/html": [
       "<div>\n",
       "<table border=\"1\" class=\"dataframe\">\n",
       "  <thead>\n",
       "    <tr style=\"text-align: right;\">\n",
       "      <th></th>\n",
       "      <th>Open</th>\n",
       "      <th>High</th>\n",
       "      <th>Low</th>\n",
       "      <th>Close</th>\n",
       "      <th>Volume (BTC)</th>\n",
       "      <th>Volume (Currency)</th>\n",
       "      <th>Weighted Price</th>\n",
       "    </tr>\n",
       "    <tr>\n",
       "      <th>Date</th>\n",
       "      <th></th>\n",
       "      <th></th>\n",
       "      <th></th>\n",
       "      <th></th>\n",
       "      <th></th>\n",
       "      <th></th>\n",
       "      <th></th>\n",
       "    </tr>\n",
       "  </thead>\n",
       "  <tbody>\n",
       "    <tr>\n",
       "      <th>2018-10-15</th>\n",
       "      <td>6181.9</td>\n",
       "      <td>6820.0</td>\n",
       "      <td>6151.0</td>\n",
       "      <td>6438.5</td>\n",
       "      <td>11354.618533</td>\n",
       "      <td>7.323588e+07</td>\n",
       "      <td>6449.875590</td>\n",
       "    </tr>\n",
       "    <tr>\n",
       "      <th>2018-10-16</th>\n",
       "      <td>6441.3</td>\n",
       "      <td>6490.0</td>\n",
       "      <td>6391.5</td>\n",
       "      <td>6460.4</td>\n",
       "      <td>3309.324892</td>\n",
       "      <td>2.131805e+07</td>\n",
       "      <td>6441.811929</td>\n",
       "    </tr>\n",
       "    <tr>\n",
       "      <th>2018-10-17</th>\n",
       "      <td>6460.3</td>\n",
       "      <td>6469.8</td>\n",
       "      <td>6411.9</td>\n",
       "      <td>6442.5</td>\n",
       "      <td>1684.002001</td>\n",
       "      <td>1.084233e+07</td>\n",
       "      <td>6438.428780</td>\n",
       "    </tr>\n",
       "    <tr>\n",
       "      <th>2018-10-18</th>\n",
       "      <td>6442.3</td>\n",
       "      <td>6487.9</td>\n",
       "      <td>6344.6</td>\n",
       "      <td>6395.4</td>\n",
       "      <td>1779.341362</td>\n",
       "      <td>1.141324e+07</td>\n",
       "      <td>6414.303261</td>\n",
       "    </tr>\n",
       "    <tr>\n",
       "      <th>2018-10-19</th>\n",
       "      <td>6395.2</td>\n",
       "      <td>6406.8</td>\n",
       "      <td>6352.5</td>\n",
       "      <td>6382.1</td>\n",
       "      <td>1124.240054</td>\n",
       "      <td>7.173664e+06</td>\n",
       "      <td>6380.900682</td>\n",
       "    </tr>\n",
       "  </tbody>\n",
       "</table>\n",
       "</div>"
      ],
      "text/plain": [
       "              Open    High     Low   Close  Volume (BTC)  Volume (Currency)  \\\n",
       "Date                                                                          \n",
       "2018-10-15  6181.9  6820.0  6151.0  6438.5  11354.618533       7.323588e+07   \n",
       "2018-10-16  6441.3  6490.0  6391.5  6460.4   3309.324892       2.131805e+07   \n",
       "2018-10-17  6460.3  6469.8  6411.9  6442.5   1684.002001       1.084233e+07   \n",
       "2018-10-18  6442.3  6487.9  6344.6  6395.4   1779.341362       1.141324e+07   \n",
       "2018-10-19  6395.2  6406.8  6352.5  6382.1   1124.240054       7.173664e+06   \n",
       "\n",
       "            Weighted Price  \n",
       "Date                        \n",
       "2018-10-15     6449.875590  \n",
       "2018-10-16     6441.811929  \n",
       "2018-10-17     6438.428780  \n",
       "2018-10-18     6414.303261  \n",
       "2018-10-19     6380.900682  "
      ]
     },
     "execution_count": 51,
     "metadata": {},
     "output_type": "execute_result"
    }
   ],
   "source": [
    "data.tail()"
   ]
  },
  {
   "cell_type": "code",
   "execution_count": 58,
   "metadata": {
    "collapsed": false
   },
   "outputs": [
    {
     "data": {
      "text/plain": [
       "<matplotlib.axes._subplots.AxesSubplot at 0x7b60b5cf8>"
      ]
     },
     "execution_count": 58,
     "metadata": {},
     "output_type": "execute_result"
    },
    {
     "data": {
      "image/png": "[encoded data removed]",
      "text/plain": [
       "<matplotlib.figure.Figure at 0x7b60b4b38>"
      ]
     },
     "metadata": {},
     "output_type": "display_data"
    }
   ],
   "source": [
    "data['Weighted Price'].plot(label = 'Weighted')\n",
    "data['Open'].plot(label = 'Open')\n",
    "data['Close'].plot(label = 'Close')"
   ]
  },
  {
   "cell_type": "code",
   "execution_count": 59,
   "metadata": {
    "collapsed": false
   },
   "outputs": [
    {
     "data": {
      "text/plain": [
       "<matplotlib.axes._subplots.AxesSubplot at 0x7b5fc2470>"
      ]
     },
     "execution_count": 59,
     "metadata": {},
     "output_type": "execute_result"
    },
    {
     "data": {
      "image/png": "[encoded data removed]",
      "text/plain": [
       "<matplotlib.figure.Figure at 0x7b64a79e8>"
      ]
     },
     "metadata": {},
     "output_type": "display_data"
    }
   ],
   "source": [
    "data['Weighted Price'].plot(label = 'Weighted')"
   ]
  },
  {
   "cell_type": "code",
   "execution_count": 53,
   "metadata": {
    "collapsed": true
   },
   "outputs": [],
   "source": [
    "data['Weighted Price'].replace(0, np.nan, inplace=True)\n",
    "data['Weighted Price'].fillna(method='ffill', inplace=True)"
   ]
  },
  {
   "cell_type": "code",
   "execution_count": 60,
   "metadata": {
    "collapsed": false
   },
   "outputs": [
    {
     "data": {
      "text/html": [
       "<div>\n",
       "<table border=\"1\" class=\"dataframe\">\n",
       "  <thead>\n",
       "    <tr style=\"text-align: right;\">\n",
       "      <th></th>\n",
       "      <th>Open</th>\n",
       "      <th>High</th>\n",
       "      <th>Low</th>\n",
       "      <th>Close</th>\n",
       "      <th>Volume (BTC)</th>\n",
       "      <th>Volume (Currency)</th>\n",
       "      <th>Weighted Price</th>\n",
       "    </tr>\n",
       "    <tr>\n",
       "      <th>Date</th>\n",
       "      <th></th>\n",
       "      <th></th>\n",
       "      <th></th>\n",
       "      <th></th>\n",
       "      <th></th>\n",
       "      <th></th>\n",
       "      <th></th>\n",
       "    </tr>\n",
       "  </thead>\n",
       "  <tbody>\n",
       "    <tr>\n",
       "      <th>2014-01-07</th>\n",
       "      <td>874.67040</td>\n",
       "      <td>892.06753</td>\n",
       "      <td>810.00000</td>\n",
       "      <td>810.00000</td>\n",
       "      <td>15.622378</td>\n",
       "      <td>13151.472844</td>\n",
       "      <td>841.835522</td>\n",
       "    </tr>\n",
       "    <tr>\n",
       "      <th>2014-01-08</th>\n",
       "      <td>810.00000</td>\n",
       "      <td>899.84281</td>\n",
       "      <td>788.00000</td>\n",
       "      <td>824.98287</td>\n",
       "      <td>19.182756</td>\n",
       "      <td>16097.329584</td>\n",
       "      <td>839.156269</td>\n",
       "    </tr>\n",
       "    <tr>\n",
       "      <th>2014-01-09</th>\n",
       "      <td>825.56345</td>\n",
       "      <td>870.00000</td>\n",
       "      <td>807.42084</td>\n",
       "      <td>841.86934</td>\n",
       "      <td>8.158335</td>\n",
       "      <td>6784.249982</td>\n",
       "      <td>831.572913</td>\n",
       "    </tr>\n",
       "    <tr>\n",
       "      <th>2014-01-10</th>\n",
       "      <td>839.99000</td>\n",
       "      <td>857.34056</td>\n",
       "      <td>817.00000</td>\n",
       "      <td>857.33056</td>\n",
       "      <td>8.024510</td>\n",
       "      <td>6780.220188</td>\n",
       "      <td>844.938794</td>\n",
       "    </tr>\n",
       "    <tr>\n",
       "      <th>2014-01-11</th>\n",
       "      <td>858.20000</td>\n",
       "      <td>918.05471</td>\n",
       "      <td>857.16554</td>\n",
       "      <td>899.84105</td>\n",
       "      <td>18.748285</td>\n",
       "      <td>16698.566929</td>\n",
       "      <td>890.671709</td>\n",
       "    </tr>\n",
       "  </tbody>\n",
       "</table>\n",
       "</div>"
      ],
      "text/plain": [
       "                 Open       High        Low      Close  Volume (BTC)  \\\n",
       "Date                                                                   \n",
       "2014-01-07  874.67040  892.06753  810.00000  810.00000     15.622378   \n",
       "2014-01-08  810.00000  899.84281  788.00000  824.98287     19.182756   \n",
       "2014-01-09  825.56345  870.00000  807.42084  841.86934      8.158335   \n",
       "2014-01-10  839.99000  857.34056  817.00000  857.33056      8.024510   \n",
       "2014-01-11  858.20000  918.05471  857.16554  899.84105     18.748285   \n",
       "\n",
       "            Volume (Currency)  Weighted Price  \n",
       "Date                                           \n",
       "2014-01-07       13151.472844      841.835522  \n",
       "2014-01-08       16097.329584      839.156269  \n",
       "2014-01-09        6784.249982      831.572913  \n",
       "2014-01-10        6780.220188      844.938794  \n",
       "2014-01-11       16698.566929      890.671709  "
      ]
     },
     "execution_count": 60,
     "metadata": {},
     "output_type": "execute_result"
    }
   ],
   "source": [
    "data.head()"
   ]
  },
  {
   "cell_type": "code",
   "execution_count": 61,
   "metadata": {
    "collapsed": true
   },
   "outputs": [],
   "source": [
    "from sklearn.preprocessing import MinMaxScaler\n",
    "values = data['Weighted Price'].values.reshape(-1,1)\n",
    "values = values.astype('float32')\n",
    "scaler = MinMaxScaler(feature_range=(0, 1))\n",
    "scaled = scaler.fit_transform(values)"
   ]
  },
  {
   "cell_type": "code",
   "execution_count": 62,
   "metadata": {
    "collapsed": false
   },
   "outputs": [
    {
     "name": "stdout",
     "output_type": "stream",
     "text": [
      "1222 525\n"
     ]
    }
   ],
   "source": [
    "train_size = int(len(scaled) * 0.7)\n",
    "test_size = len(scaled) - train_size\n",
    "train, test = scaled[0:train_size,:], scaled[train_size:len(scaled),:]\n",
    "print(len(train), len(test))"
   ]
  },
  {
   "cell_type": "code",
   "execution_count": 134,
   "metadata": {
    "collapsed": false
   },
   "outputs": [
    {
     "data": {
      "text/plain": [
       "array([[3.3914901e-02, 5.4245576e-04, 6.7377921e-05, 3.3773407e-02],\n",
       "       [3.3773407e-02, 6.6608272e-04, 8.2470193e-05, 3.3372939e-02],\n",
       "       [3.3372939e-02, 2.8328181e-04, 3.4757220e-05, 3.4078784e-02],\n",
       "       ...,\n",
       "       [8.1767961e-02, 1.8343398e-01, 4.7308661e-02, 8.6016782e-02],\n",
       "       [8.6016782e-02, 2.4490678e-01, 6.6070072e-02, 8.1427544e-02],\n",
       "       [8.1427544e-02, 2.4294479e-01, 6.2425766e-02, 7.8931399e-02]],\n",
       "      dtype=float32)"
      ]
     },
     "execution_count": 134,
     "metadata": {},
     "output_type": "execute_result"
    }
   ],
   "source": [
    "train"
   ]
  },
  {
   "cell_type": "code",
   "execution_count": 132,
   "metadata": {
    "collapsed": false
   },
   "outputs": [
    {
     "data": {
      "text/plain": [
       "array([0.03377341], dtype=float32)"
      ]
     },
     "execution_count": 132,
     "metadata": {},
     "output_type": "execute_result"
    }
   ],
   "source": [
    "train.shape\n",
    "len(train)\n",
    "train[1:2,0]"
   ]
  },
  {
   "cell_type": "code",
   "execution_count": 63,
   "metadata": {
    "collapsed": true
   },
   "outputs": [],
   "source": [
    "def create_dataset(dataset, look_back=1):\n",
    "    dataX, dataY = [], []\n",
    "    for i in range(len(dataset) - look_back):\n",
    "        a = dataset[i:(i + look_back), 0]\n",
    "        dataX.append(a)\n",
    "        dataY.append(dataset[i + look_back, 0])\n",
    "    print(len(dataY))\n",
    "    return np.array(dataX), np.array(dataY)"
   ]
  },
  {
   "cell_type": "code",
   "execution_count": 64,
   "metadata": {
    "collapsed": false
   },
   "outputs": [
    {
     "name": "stdout",
     "output_type": "stream",
     "text": [
      "1221\n",
      "524\n"
     ]
    }
   ],
   "source": [
    "look_back = 1\n",
    "trainX, trainY = create_dataset(train, look_back)\n",
    "testX, testY = create_dataset(test, look_back)"
   ]
  },
  {
   "cell_type": "code",
   "execution_count": 65,
   "metadata": {
    "collapsed": true
   },
   "outputs": [],
   "source": [
    "trainX = np.reshape(trainX, (trainX.shape[0], 1, trainX.shape[1]))\n",
    "testX = np.reshape(testX, (testX.shape[0], 1, testX.shape[1]))\n"
   ]
  },
  {
   "cell_type": "code",
   "execution_count": 66,
   "metadata": {
    "collapsed": true
   },
   "outputs": [],
   "source": [
    "model = Sequential()\n",
    "model.add(LSTM(100, input_shape=(trainX.shape[1], trainX.shape[2])))\n",
    "model.add(Dense(1))\n",
    "model.compile(loss='mae', optimizer='adam')\n",
    "history = model.fit(trainX, trainY, epochs=300, batch_size=100, validation_data=(testX, testY), verbose=0, shuffle=False)"
   ]
  },
  {
   "cell_type": "code",
   "execution_count": 67,
   "metadata": {
    "collapsed": false
   },
   "outputs": [
    {
     "data": {
      "image/png": "[encoded data removed]",
      "text/plain": [
       "<matplotlib.figure.Figure at 0x7b629a5f8>"
      ]
     },
     "metadata": {},
     "output_type": "display_data"
    }
   ],
   "source": [
    "pyplot.plot(history.history['loss'], label='train')\n",
    "pyplot.plot(history.history['val_loss'], label='test')\n",
    "pyplot.legend()\n",
    "pyplot.show()"
   ]
  },
  {
   "cell_type": "code",
   "execution_count": 68,
   "metadata": {
    "collapsed": false
   },
   "outputs": [
    {
     "data": {
      "image/png": "[encoded data removed]",
      "text/plain": [
       "<matplotlib.figure.Figure at 0x7bc3492e8>"
      ]
     },
     "metadata": {},
     "output_type": "display_data"
    }
   ],
   "source": [
    "yhat = model.predict(testX)\n",
    "pyplot.plot(yhat, label='predict')\n",
    "pyplot.plot(testY, label='true')\n",
    "pyplot.legend()\n",
    "pyplot.show()"
   ]
  },
  {
   "cell_type": "code",
   "execution_count": 69,
   "metadata": {
    "collapsed": true
   },
   "outputs": [],
   "source": [
    "yhat_inverse = scaler.inverse_transform(yhat.reshape(-1, 1))\n",
    "testY_inverse = scaler.inverse_transform(testY.reshape(-1, 1))"
   ]
  },
  {
   "cell_type": "code",
   "execution_count": 70,
   "metadata": {
    "collapsed": false
   },
   "outputs": [
    {
     "name": "stdout",
     "output_type": "stream",
     "text": [
      "Test RMSE: 930.802\n"
     ]
    }
   ],
   "source": [
    "rmse = sqrt(mean_squared_error(testY_inverse, yhat_inverse))\n",
    "print('Test RMSE: %.3f' % rmse)"
   ]
  },
  {
   "cell_type": "code",
   "execution_count": 71,
   "metadata": {
    "collapsed": false
   },
   "outputs": [
    {
     "data": {
      "image/png": "[encoded data removed]",
      "text/plain": [
       "<matplotlib.figure.Figure at 0x7bc3e47f0>"
      ]
     },
     "metadata": {},
     "output_type": "display_data"
    }
   ],
   "source": [
    "pyplot.plot(yhat_inverse, label='predict')\n",
    "pyplot.plot(testY_inverse, label='actual', alpha=0.5)\n",
    "pyplot.legend()\n",
    "pyplot.show()"
   ]
  },
  {
   "cell_type": "code",
   "execution_count": 72,
   "metadata": {
    "collapsed": true
   },
   "outputs": [],
   "source": [
    "predictDates = data.tail(len(testX)).index"
   ]
  },
  {
   "cell_type": "code",
   "execution_count": 74,
   "metadata": {
    "collapsed": false
   },
   "outputs": [],
   "source": [
    "testY_reshape = testY_inverse.reshape(len(testY_inverse))\n",
    "yhat_reshape = yhat_inverse.reshape(len(yhat_inverse))"
   ]
  },
  {
   "cell_type": "code",
   "execution_count": 88,
   "metadata": {
    "collapsed": false
   },
   "outputs": [
    {
     "data": {
      "text/plain": [
       "<matplotlib.axes._subplots.AxesSubplot at 0x7bc564358>"
      ]
     },
     "execution_count": 88,
     "metadata": {},
     "output_type": "execute_result"
    },
    {
     "data": {
      "image/png": "[encoded data removed]",
      "text/plain": [
       "<matplotlib.figure.Figure at 0x7bc5535f8>"
      ]
     },
     "metadata": {},
     "output_type": "display_data"
    }
   ],
   "source": [
    "sns.heatmap(data.corr(), annot=True, cmap='RdYlGn', linewidths=0.1, vmin=0)"
   ]
  },
  {
   "cell_type": "code",
   "execution_count": 89,
   "metadata": {
    "collapsed": true
   },
   "outputs": [],
   "source": [
    "def series_to_supervised(data, n_in=1, n_out=1, dropnan=True):\n",
    "    n_vars = 1 if type(data) is list else data.shape[1]\n",
    "    df = pd.DataFrame(data)\n",
    "    cols, names = list(), list()\n",
    "    # input sequence (t-n, ... t-1)\n",
    "    for i in range(n_in, 0, -1):\n",
    "        cols.append(df.shift(i))\n",
    "        names += [('var%d(t-%d)' % (j+1, i)) for j in range(n_vars)]\n",
    "    # forecast sequence (t, t+1, ... t+n)\n",
    "    for i in range(0, n_out):\n",
    "        cols.append(df.shift(-i))\n",
    "        if i == 0:\n",
    "            names += [('var%d(t)' % (j+1)) for j in range(n_vars)]\n",
    "        else:\n",
    "            names += [('var%d(t+%d)' % (j+1, i)) for j in range(n_vars)]\n",
    "    # put it all together\n",
    "    agg = pd.concat(cols, axis=1)\n",
    "    agg.columns = names\n",
    "    # drop rows with NaN values\n",
    "    if dropnan:\n",
    "        agg.dropna(inplace=True)\n",
    "    return agg"
   ]
  },
  {
   "cell_type": "code",
   "execution_count": 90,
   "metadata": {
    "collapsed": true
   },
   "outputs": [],
   "source": [
    "values = data[['Weighted Price'] + ['Volume (BTC)'] + ['Volume (Currency)']].values\n",
    "values = values.astype('float32')"
   ]
  },
  {
   "cell_type": "code",
   "execution_count": 92,
   "metadata": {
    "collapsed": false
   },
   "outputs": [
    {
     "data": {
      "text/plain": [
       "array([[8.4183551e+02, 1.5622378e+01, 1.3151473e+04],\n",
       "       [8.3915625e+02, 1.9182756e+01, 1.6097329e+04],\n",
       "       [8.3157294e+02, 8.1583347e+00, 6.7842500e+03],\n",
       "       ...,\n",
       "       [6.4384287e+03, 1.6840020e+03, 1.0842327e+07],\n",
       "       [6.4143032e+03, 1.7793413e+03, 1.1413235e+07],\n",
       "       [6.3809009e+03, 1.1242401e+03, 7.1736640e+06]], dtype=float32)"
      ]
     },
     "execution_count": 92,
     "metadata": {},
     "output_type": "execute_result"
    }
   ],
   "source": [
    "values"
   ]
  },
  {
   "cell_type": "code",
   "execution_count": 93,
   "metadata": {
    "collapsed": true
   },
   "outputs": [],
   "source": [
    "scaler = MinMaxScaler(feature_range=(0, 1))\n",
    "scaled = scaler.fit_transform(values)"
   ]
  },
  {
   "cell_type": "code",
   "execution_count": 94,
   "metadata": {
    "collapsed": false
   },
   "outputs": [
    {
     "data": {
      "text/html": [
       "<div>\n",
       "<table border=\"1\" class=\"dataframe\">\n",
       "  <thead>\n",
       "    <tr style=\"text-align: right;\">\n",
       "      <th></th>\n",
       "      <th>var1(t-1)</th>\n",
       "      <th>var2(t-1)</th>\n",
       "      <th>var3(t-1)</th>\n",
       "      <th>var1(t)</th>\n",
       "      <th>var2(t)</th>\n",
       "      <th>var3(t)</th>\n",
       "    </tr>\n",
       "  </thead>\n",
       "  <tbody>\n",
       "    <tr>\n",
       "      <th>1</th>\n",
       "      <td>0.033915</td>\n",
       "      <td>0.000542</td>\n",
       "      <td>0.000067</td>\n",
       "      <td>0.033773</td>\n",
       "      <td>0.000666</td>\n",
       "      <td>0.000082</td>\n",
       "    </tr>\n",
       "    <tr>\n",
       "      <th>2</th>\n",
       "      <td>0.033773</td>\n",
       "      <td>0.000666</td>\n",
       "      <td>0.000082</td>\n",
       "      <td>0.033373</td>\n",
       "      <td>0.000283</td>\n",
       "      <td>0.000035</td>\n",
       "    </tr>\n",
       "    <tr>\n",
       "      <th>3</th>\n",
       "      <td>0.033373</td>\n",
       "      <td>0.000283</td>\n",
       "      <td>0.000035</td>\n",
       "      <td>0.034079</td>\n",
       "      <td>0.000279</td>\n",
       "      <td>0.000035</td>\n",
       "    </tr>\n",
       "    <tr>\n",
       "      <th>4</th>\n",
       "      <td>0.034079</td>\n",
       "      <td>0.000279</td>\n",
       "      <td>0.000035</td>\n",
       "      <td>0.036494</td>\n",
       "      <td>0.000651</td>\n",
       "      <td>0.000086</td>\n",
       "    </tr>\n",
       "    <tr>\n",
       "      <th>5</th>\n",
       "      <td>0.036494</td>\n",
       "      <td>0.000651</td>\n",
       "      <td>0.000086</td>\n",
       "      <td>0.034898</td>\n",
       "      <td>0.000883</td>\n",
       "      <td>0.000112</td>\n",
       "    </tr>\n",
       "  </tbody>\n",
       "</table>\n",
       "</div>"
      ],
      "text/plain": [
       "   var1(t-1)  var2(t-1)  var3(t-1)   var1(t)   var2(t)   var3(t)\n",
       "1   0.033915   0.000542   0.000067  0.033773  0.000666  0.000082\n",
       "2   0.033773   0.000666   0.000082  0.033373  0.000283  0.000035\n",
       "3   0.033373   0.000283   0.000035  0.034079  0.000279  0.000035\n",
       "4   0.034079   0.000279   0.000035  0.036494  0.000651  0.000086\n",
       "5   0.036494   0.000651   0.000086  0.034898  0.000883  0.000112"
      ]
     },
     "execution_count": 94,
     "metadata": {},
     "output_type": "execute_result"
    }
   ],
   "source": [
    "reframed = series_to_supervised(scaled, 1, 1)\n",
    "reframed.head()"
   ]
  },
  {
   "cell_type": "code",
   "execution_count": 95,
   "metadata": {
    "collapsed": false
   },
   "outputs": [
    {
     "name": "stdout",
     "output_type": "stream",
     "text": [
      "   var1(t-1)  var2(t-1)  var3(t-1)   var1(t)\n",
      "1   0.033915   0.000542   0.000067  0.033773\n",
      "2   0.033773   0.000666   0.000082  0.033373\n",
      "3   0.033373   0.000283   0.000035  0.034079\n",
      "4   0.034079   0.000279   0.000035  0.036494\n",
      "5   0.036494   0.000651   0.000086  0.034898\n"
     ]
    }
   ],
   "source": [
    "reframed.drop(reframed.columns[[4,5]], axis=1, inplace=True)\n",
    "print(reframed.head())"
   ]
  },
  {
   "cell_type": "code",
   "execution_count": 96,
   "metadata": {
    "collapsed": false
   },
   "outputs": [
    {
     "name": "stdout",
     "output_type": "stream",
     "text": [
      "(1222, 1, 3) (1222,) (524, 1, 3) (524,)\n"
     ]
    }
   ],
   "source": [
    "values = reframed.values\n",
    "n_train_hours = int(len(values) * 0.7)\n",
    "train = values[:n_train_hours, :]\n",
    "test = values[n_train_hours:, :]\n",
    "# split into input and outputs\n",
    "train_X, train_y = train[:, :-1], train[:, -1]\n",
    "test_X, test_y = test[:, :-1], test[:, -1]\n",
    "# reshape input to be 3D [samples, timesteps, features]\n",
    "train_X = train_X.reshape((train_X.shape[0], 1, train_X.shape[1]))\n",
    "test_X = test_X.reshape((test_X.shape[0], 1, test_X.shape[1]))\n",
    "print(train_X.shape, train_y.shape, test_X.shape, test_y.shape)"
   ]
  },
  {
   "cell_type": "code",
   "execution_count": 97,
   "metadata": {
    "collapsed": true
   },
   "outputs": [],
   "source": [
    "multi_model = Sequential()\n",
    "multi_model.add(LSTM(100, input_shape=(train_X.shape[1], train_X.shape[2])))\n",
    "multi_model.add(Dense(1))\n",
    "multi_model.compile(loss='mae', optimizer='adam')\n",
    "multi_history = multi_model.fit(train_X, train_y, epochs=300, batch_size=100, validation_data=(test_X, test_y), verbose=0, shuffle=False)"
   ]
  },
  {
   "cell_type": "code",
   "execution_count": 98,
   "metadata": {
    "collapsed": false
   },
   "outputs": [
    {
     "data": {
      "image/png": "[encoded data removed]",
      "text/plain": [
       "<matplotlib.figure.Figure at 0x7bc5c5208>"
      ]
     },
     "metadata": {},
     "output_type": "display_data"
    }
   ],
   "source": [
    "pyplot.plot(multi_history.history['loss'], label='multi_train')\n",
    "pyplot.plot(multi_history.history['val_loss'], label='multi_test')\n",
    "pyplot.legend()\n",
    "pyplot.show()"
   ]
  },
  {
   "cell_type": "code",
   "execution_count": 99,
   "metadata": {
    "collapsed": false
   },
   "outputs": [
    {
     "data": {
      "image/png": "[encoded data removed]",
      "text/plain": [
       "<matplotlib.figure.Figure at 0x7bedf4748>"
      ]
     },
     "metadata": {},
     "output_type": "display_data"
    }
   ],
   "source": [
    "yhat = multi_model.predict(test_X)\n",
    "pyplot.plot(yhat, label='predict')\n",
    "pyplot.plot(test_y, label='true')\n",
    "pyplot.legend()\n",
    "pyplot.show()"
   ]
  },
  {
   "cell_type": "code",
   "execution_count": 100,
   "metadata": {
    "collapsed": true
   },
   "outputs": [],
   "source": [
    "test_X = test_X.reshape((test_X.shape[0], test_X.shape[2]))\n",
    "# invert scaling for forecast\n",
    "inv_yhat = concatenate((yhat, test_X[:, 1:]), axis=1)\n",
    "inv_yhat = scaler.inverse_transform(inv_yhat)\n",
    "inv_yhat = inv_yhat[:,0]\n",
    "# invert scaling for actual\n",
    "test_y = test_y.reshape((len(test_y), 1))\n",
    "inv_y = concatenate((test_y, test_X[:, 1:]), axis=1)\n",
    "inv_y = scaler.inverse_transform(inv_y)\n",
    "inv_y = inv_y[:,0]"
   ]
  },
  {
   "cell_type": "code",
   "execution_count": 101,
   "metadata": {
    "collapsed": false
   },
   "outputs": [
    {
     "name": "stdout",
     "output_type": "stream",
     "text": [
      "Test RMSE: 399.918\n"
     ]
    }
   ],
   "source": [
    "rmse = sqrt(mean_squared_error(inv_y, inv_yhat))\n",
    "print('Test RMSE: %.3f' % rmse)"
   ]
  },
  {
   "cell_type": "code",
   "execution_count": 104,
   "metadata": {
    "collapsed": false
   },
   "outputs": [],
   "source": [
    "actual_chart = go.Scatter(x=predictDates, y=inv_y, name= 'Actual Price')\n",
    "multi_predict_chart = go.Scatter(x=predictDates, y=inv_yhat, name= 'Multi Predict Price')\n",
    "predict_chart = go.Scatter(x=predictDates, y=yhat_reshape, name= 'Predict Price')"
   ]
  },
  {
   "cell_type": "code",
   "execution_count": 113,
   "metadata": {
    "collapsed": false
   },
   "outputs": [],
   "source": [
    "import matplotlib.pyplot as pltt"
   ]
  },
  {
   "cell_type": "code",
   "execution_count": 117,
   "metadata": {
    "collapsed": false
   },
   "outputs": [
    {
     "data": {
      "text/plain": [
       "[<matplotlib.lines.Line2D at 0x7bef7b668>]"
      ]
     },
     "execution_count": 117,
     "metadata": {},
     "output_type": "execute_result"
    },
    {
     "data": {
      "image/png": "[encoded data removed]",
      "text/plain": [
       "<matplotlib.figure.Figure at 0x7bef38438>"
      ]
     },
     "metadata": {},
     "output_type": "display_data"
    }
   ],
   "source": [
    "pltt.plot(inv_y, 'r', label = 'Actual' )\n",
    "pltt.plot(inv_yhat, 'g', label = 'Multi' )\n",
    "pltt.plot(inv_y, 'b', label = 'Mono' )"
   ]
  },
  {
   "cell_type": "code",
   "execution_count": 122,
   "metadata": {
    "collapsed": true
   },
   "outputs": [],
   "source": [
    "from plotly import __version__\n",
    "from plotly.offline import download_plotlyjs, init_notebook_mode, plot, iplot\n",
    "plotly.tools.set_credentials_file(username='winston107', api_key='sCoIeyDNBdAQoNqz8eai')"
   ]
  },
  {
   "cell_type": "code",
   "execution_count": 123,
   "metadata": {
    "collapsed": false
   },
   "outputs": [
    {
     "name": "stdout",
     "output_type": "stream",
     "text": [
      "High five! You successfully sent some data to your account on plotly. View your plot in your browser at https://plot.ly/~winston107/0 or inside your plot.ly account where it is named 'plot from API'\n"
     ]
    },
    {
     "data": {
      "text/html": [
       "<iframe id=\"igraph\" scrolling=\"no\" style=\"border:none;\" seamless=\"seamless\" src=\"https://plot.ly/~winston107/0.embed\" height=\"525px\" width=\"100%\"></iframe>"
      ],
      "text/plain": [
       "<plotly.tools.PlotlyDisplay object>"
      ]
     },
     "execution_count": 123,
     "metadata": {},
     "output_type": "execute_result"
    }
   ],
   "source": [
    "actual_chart = go.Scatter(x=predictDates, y=inv_y, name= 'Actual Price')\n",
    "multi_predict_chart = go.Scatter(x=predictDates, y=inv_yhat, name= 'Multi Predict Price')\n",
    "predict_chart = go.Scatter(x=predictDates, y=yhat_reshape, name= 'Predict Price')\n",
    "py.iplot([predict_chart, multi_predict_chart, actual_chart])"
   ]
  },
  {
   "cell_type": "code",
   "execution_count": null,
   "metadata": {
    "collapsed": true
   },
   "outputs": [],
   "source": []
  }
 ],
 "metadata": {
  "kernelspec": {
   "display_name": "Python [Root]",
   "language": "python",
   "name": "Python [Root]"
  },
  "language_info": {
   "codemirror_mode": {
    "name": "ipython",
    "version": 3
   },
   "file_extension": ".py",
   "mimetype": "text/x-python",
   "name": "python",
   "nbconvert_exporter": "python",
   "pygments_lexer": "ipython3",
   "version": "3.5.2"
  }
 },
 "nbformat": 4,
 "nbformat_minor": 0
}
