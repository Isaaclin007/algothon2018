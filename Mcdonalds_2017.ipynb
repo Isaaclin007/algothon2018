{
 "cells": [
  {
   "cell_type": "code",
   "execution_count": null,
   "metadata": {},
   "outputs": [],
   "source": [
    "from math import sqrt\n",
    "from numpy import concatenate\n",
    "import matplotlib as mpl\n",
    "from matplotlib import pyplot\n",
    "import pandas as pd\n",
    "from datetime import datetime\n",
    "#from sklearn.preprocessing import MinMaxScaler\n",
    "#from sklearn.preprocessing import LabelEncoder\n",
    "#from sklearn.metrics import mean_squared_error\n",
    "from keras.models import Sequential\n",
    "from keras.layers import Dense\n",
    "from keras.layers import LSTM\n",
    "import plotly.offline as py\n",
    "import plotly.graph_objs as go\n",
    "import numpy as np\n",
    "#import seaborn as sns\n",
    "py.init_notebook_mode(connected=True)\n",
    "%matplotlib inline"
   ]
  },
  {
   "cell_type": "code",
   "execution_count": null,
   "metadata": {
    "collapsed": true
   },
   "outputs": [],
   "source": [
    "import quandl"
   ]
  },
  {
   "cell_type": "code",
   "execution_count": null,
   "metadata": {},
   "outputs": [],
   "source": [
    "quandl.ApiConfig.api_key = 'iGwr2rziWYjkRsULyDZy'"
   ]
  },
  {
   "cell_type": "code",
   "execution_count": null,
   "metadata": {},
   "outputs": [],
   "source": [
    "data = quandl.get('WIKI/AAPL', rows = 5)"
   ]
  },
  {
   "cell_type": "code",
   "execution_count": null,
   "metadata": {},
   "outputs": [],
   "source": []
  },
  {
   "cell_type": "code",
   "execution_count": null,
   "metadata": {},
   "outputs": [],
   "source": [
    "data2 = pd.read_csv(\"https://www.quandl.com/api/v3/datasets/WIKI/FB/data.csv?api_key={}\".format(quandl.ApiConfig.api_key)).head(5)"
   ]
  },
  {
   "cell_type": "code",
   "execution_count": null,
   "metadata": {},
   "outputs": [],
   "source": [
    "fb_url = \"https://www.quandl.com/api/v3/datasets/SMA/FBD/data.csv?api_key={}\".format(quandl.ApiConfig.api_key)\n",
    "mck = quandl.get_table('SMA/FBD', brand_ticker='MCD', date = '2018-10-18')"
   ]
  },
  {
   "cell_type": "code",
   "execution_count": null,
   "metadata": {},
   "outputs": [],
   "source": [
    "mck['organic-admin_post_likes'].sum()"
   ]
  },
  {
   "cell_type": "code",
   "execution_count": null,
   "metadata": {
    "collapsed": true
   },
   "outputs": [],
   "source": [
    "import datetime"
   ]
  },
  {
   "cell_type": "code",
   "execution_count": null,
   "metadata": {},
   "outputs": [],
   "source": [
    "def daterange(startdate, enddate):\n",
    "    \"\"\"\n",
    "    Generates datetime objects from start date to the day before end date.\"\"\"\n",
    "    for n in range((enddate - startdate).days):\n",
    "        yield startdate + datetime.timedelta(days=n)\n",
    "\n",
    "start = datetime.datetime(2016,1,1)\n",
    "end = datetime.datetime(2017,1,1)\n",
    "\n",
    "for date in daterange(start, end):\n",
    "    print(\"{}-{}-{}\".format(date.year, date.month, date.day))"
   ]
  },
  {
   "cell_type": "code",
   "execution_count": null,
   "metadata": {},
   "outputs": [],
   "source": [
    "mcktuesday = quandl.get_table('SMA/FBD', brand_ticker='MCD', qopts={'columns','organic-admin_post_likes'}, paginate = 'True', date = '2014-10-16')"
   ]
  },
  {
   "cell_type": "code",
   "execution_count": null,
   "metadata": {},
   "outputs": [],
   "source": [
    "mcktuesday[mcktuesday['geography'] == 'United States']"
   ]
  },
  {
   "cell_type": "code",
   "execution_count": null,
   "metadata": {
    "scrolled": true
   },
   "outputs": [],
   "source": [
    "mcktuesday[mcktuesday['geography'] == \"United States\"]"
   ]
  },
  {
   "cell_type": "code",
   "execution_count": null,
   "metadata": {},
   "outputs": [],
   "source": [
    "y = []\n",
    "start = datetime.datetime(2017, 1, 1)\n",
    "end = datetime.datetime(2018, 1, 1)\n",
    "\n",
    "for date in daterange(start, end):\n",
    "    mckday = quandl.get_table('SMA/FBD', brand_ticker='MCD', paginate = 'True', date = date)\n",
    "    mckusa = mckday[mckday['geography'] == \"United States\"]\n",
    "    print(date)\n",
    "    y.append(int(mckusa['organic-admin_post_likes']))"
   ]
  },
  {
   "cell_type": "code",
   "execution_count": null,
   "metadata": {},
   "outputs": [],
   "source": [
    "pyplot.plot(y)"
   ]
  },
  {
   "cell_type": "code",
   "execution_count": null,
   "metadata": {},
   "outputs": [],
   "source": [
    "mckclosing_price = quandl.get_table('WIKI/PRICES', qopts = { 'columns': ['ticker', 'date', 'close'] }, ticker = ['Mck'], date = {'lte': '2017-12-31' , 'gte': '2017-01-01' })\n",
    "\n",
    "mck_close = []\n",
    "start = datetime.datetime(2017, 1, 1)\n",
    "end = datetime.datetime(2018, 1, 1)\n",
    "\n",
    "for date in daterange(start, end):\n",
    "    mckcloseframe = quandl.get_table('WIKI/PRICES', qopts = { 'columns': ['date', 'close'] }, ticker = ['Mck'], date = date)\n",
    "    try:\n",
    "        mck_close.append(float(mckcloseframe['close']))\n",
    "    except TypeError:\n",
    "        mck_close.append(np.NaN)\n",
    "    #mck_close.append(float(mckcloseframe['close']))\n",
    "print(mck_close)"
   ]
  },
  {
   "cell_type": "code",
   "execution_count": null,
   "metadata": {
    "scrolled": true
   },
   "outputs": [],
   "source": [
    "mck_closearray = np.array(mck_close)\n",
    "if np.isnan(mck_closearray[0]):\n",
    "    mck_closearray[0] = mck_closearray[~np.isnan(mck_closearray)][0]\n",
    "\n",
    "while any(np.isnan(mck_closearray)):\n",
    "    for i in range(len(mck_closearray)):\n",
    "        if np.isnan(mck_closearray[i]):\n",
    "            mck_closearray[i] = mck_closearray[i-1]\n",
    "        \n",
    "mck_closearray"
   ]
  },
  {
   "cell_type": "code",
   "execution_count": null,
   "metadata": {},
   "outputs": [],
   "source": [
    "x = [x for x in range(365)]"
   ]
  },
  {
   "cell_type": "code",
   "execution_count": null,
   "metadata": {},
   "outputs": [],
   "source": [
    "y_arr = np.array(y)\n",
    "y_scale = max(mck_closearray) * y_arr/max(y_arr)"
   ]
  },
  {
   "cell_type": "code",
   "execution_count": null,
   "metadata": {},
   "outputs": [],
   "source": [
    "pyplot.plot(x, y_scale, x, mck_closearray)"
   ]
  },
  {
   "cell_type": "code",
   "execution_count": null,
   "metadata": {
    "collapsed": true
   },
   "outputs": [],
   "source": []
  }
 ],
 "metadata": {
  "anaconda-cloud": {},
  "kernelspec": {
   "display_name": "Python [conda root]",
   "language": "python",
   "name": "conda-root-py"
  },
  "language_info": {
   "codemirror_mode": {
    "name": "ipython",
    "version": 3
   },
   "file_extension": ".py",
   "mimetype": "text/x-python",
   "name": "python",
   "nbconvert_exporter": "python",
   "pygments_lexer": "ipython3",
   "version": "3.5.4"
  }
 },
 "nbformat": 4,
 "nbformat_minor": 2
}
