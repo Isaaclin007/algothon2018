{
 "cells": [
  {
   "cell_type": "code",
   "execution_count": 2,
   "metadata": {
    "collapsed": false
   },
   "outputs": [
    {
     "name": "stderr",
     "output_type": "stream",
     "text": [
      "Using TensorFlow backend.\n"
     ]
    }
   ],
   "source": [
    "from math import sqrt\n",
    "from numpy import concatenate\n",
    "from matplotlib import pyplot\n",
    "import pandas as pd\n",
    "from datetime import datetime\n",
    "from sklearn.preprocessing import MinMaxScaler\n",
    "from sklearn.preprocessing import LabelEncoder\n",
    "from sklearn.metrics import mean_squared_error\n",
    "from keras.models import Sequential\n",
    "from keras.layers import Dense\n",
    "from keras.layers import LSTM\n",
    "import plotly.plotly as py\n",
    "import plotly.graph_objs as go\n",
    "import numpy as np\n",
    "import seaborn as sns\n",
    "\n",
    "%matplotlib inline"
   ]
  },
  {
   "cell_type": "code",
   "execution_count": 3,
   "metadata": {
    "collapsed": true
   },
   "outputs": [],
   "source": [
    "import quandl\n",
    "data = quandl.get(\"EOD/MCD\", authtoken=\"izoTyaHJR5SoE7Zy9yVx\")\n",
    "\n",
    "#data = quandl.get('BCHARTS/KRAKENUSD', returns='pandas')"
   ]
  },
  {
   "cell_type": "code",
   "execution_count": 4,
   "metadata": {
    "collapsed": false
   },
   "outputs": [
    {
     "data": {
      "text/html": [
       "<div>\n",
       "<table border=\"1\" class=\"dataframe\">\n",
       "  <thead>\n",
       "    <tr style=\"text-align: right;\">\n",
       "      <th></th>\n",
       "      <th>Open</th>\n",
       "      <th>High</th>\n",
       "      <th>Low</th>\n",
       "      <th>Close</th>\n",
       "      <th>Volume</th>\n",
       "      <th>Dividend</th>\n",
       "      <th>Split</th>\n",
       "      <th>Adj_Open</th>\n",
       "      <th>Adj_High</th>\n",
       "      <th>Adj_Low</th>\n",
       "      <th>Adj_Close</th>\n",
       "      <th>Adj_Volume</th>\n",
       "    </tr>\n",
       "    <tr>\n",
       "      <th>Date</th>\n",
       "      <th></th>\n",
       "      <th></th>\n",
       "      <th></th>\n",
       "      <th></th>\n",
       "      <th></th>\n",
       "      <th></th>\n",
       "      <th></th>\n",
       "      <th></th>\n",
       "      <th></th>\n",
       "      <th></th>\n",
       "      <th></th>\n",
       "      <th></th>\n",
       "    </tr>\n",
       "  </thead>\n",
       "  <tbody>\n",
       "    <tr>\n",
       "      <th>1970-01-02</th>\n",
       "      <td>43.00</td>\n",
       "      <td>44.25</td>\n",
       "      <td>43.0</td>\n",
       "      <td>44.25</td>\n",
       "      <td>23256.0</td>\n",
       "      <td>0.0</td>\n",
       "      <td>1.0</td>\n",
       "      <td>0.197684</td>\n",
       "      <td>0.203430</td>\n",
       "      <td>0.197684</td>\n",
       "      <td>0.203430</td>\n",
       "      <td>2825604.0</td>\n",
       "    </tr>\n",
       "    <tr>\n",
       "      <th>1970-01-05</th>\n",
       "      <td>44.25</td>\n",
       "      <td>45.00</td>\n",
       "      <td>44.0</td>\n",
       "      <td>45.00</td>\n",
       "      <td>18193.0</td>\n",
       "      <td>0.0</td>\n",
       "      <td>1.0</td>\n",
       "      <td>0.203430</td>\n",
       "      <td>0.206878</td>\n",
       "      <td>0.202281</td>\n",
       "      <td>0.206878</td>\n",
       "      <td>2210449.5</td>\n",
       "    </tr>\n",
       "    <tr>\n",
       "      <th>1970-01-06</th>\n",
       "      <td>45.00</td>\n",
       "      <td>45.75</td>\n",
       "      <td>45.0</td>\n",
       "      <td>45.25</td>\n",
       "      <td>16059.0</td>\n",
       "      <td>0.0</td>\n",
       "      <td>1.0</td>\n",
       "      <td>0.206878</td>\n",
       "      <td>0.210326</td>\n",
       "      <td>0.206878</td>\n",
       "      <td>0.208028</td>\n",
       "      <td>1951168.5</td>\n",
       "    </tr>\n",
       "    <tr>\n",
       "      <th>1970-01-07</th>\n",
       "      <td>45.25</td>\n",
       "      <td>45.75</td>\n",
       "      <td>45.0</td>\n",
       "      <td>45.00</td>\n",
       "      <td>22459.0</td>\n",
       "      <td>0.0</td>\n",
       "      <td>1.0</td>\n",
       "      <td>0.208028</td>\n",
       "      <td>0.210326</td>\n",
       "      <td>0.206878</td>\n",
       "      <td>0.206878</td>\n",
       "      <td>2728768.5</td>\n",
       "    </tr>\n",
       "    <tr>\n",
       "      <th>1970-01-08</th>\n",
       "      <td>45.00</td>\n",
       "      <td>45.38</td>\n",
       "      <td>45.0</td>\n",
       "      <td>45.00</td>\n",
       "      <td>18456.0</td>\n",
       "      <td>0.0</td>\n",
       "      <td>1.0</td>\n",
       "      <td>0.206878</td>\n",
       "      <td>0.208625</td>\n",
       "      <td>0.206878</td>\n",
       "      <td>0.206878</td>\n",
       "      <td>2242404.0</td>\n",
       "    </tr>\n",
       "  </tbody>\n",
       "</table>\n",
       "</div>"
      ],
      "text/plain": [
       "             Open   High   Low  Close   Volume  Dividend  Split  Adj_Open  \\\n",
       "Date                                                                        \n",
       "1970-01-02  43.00  44.25  43.0  44.25  23256.0       0.0    1.0  0.197684   \n",
       "1970-01-05  44.25  45.00  44.0  45.00  18193.0       0.0    1.0  0.203430   \n",
       "1970-01-06  45.00  45.75  45.0  45.25  16059.0       0.0    1.0  0.206878   \n",
       "1970-01-07  45.25  45.75  45.0  45.00  22459.0       0.0    1.0  0.208028   \n",
       "1970-01-08  45.00  45.38  45.0  45.00  18456.0       0.0    1.0  0.206878   \n",
       "\n",
       "            Adj_High   Adj_Low  Adj_Close  Adj_Volume  \n",
       "Date                                                   \n",
       "1970-01-02  0.203430  0.197684   0.203430   2825604.0  \n",
       "1970-01-05  0.206878  0.202281   0.206878   2210449.5  \n",
       "1970-01-06  0.210326  0.206878   0.208028   1951168.5  \n",
       "1970-01-07  0.210326  0.206878   0.206878   2728768.5  \n",
       "1970-01-08  0.208625  0.206878   0.206878   2242404.0  "
      ]
     },
     "execution_count": 4,
     "metadata": {},
     "output_type": "execute_result"
    }
   ],
   "source": [
    "data.head()"
   ]
  },
  {
   "cell_type": "code",
   "execution_count": 5,
   "metadata": {
    "collapsed": false
   },
   "outputs": [
    {
     "name": "stdout",
     "output_type": "stream",
     "text": [
      "<class 'pandas.core.frame.DataFrame'>\n",
      "DatetimeIndex: 12313 entries, 1970-01-02 to 2018-10-19\n",
      "Data columns (total 12 columns):\n",
      "Open          12313 non-null float64\n",
      "High          12313 non-null float64\n",
      "Low           12313 non-null float64\n",
      "Close         12313 non-null float64\n",
      "Volume        12313 non-null float64\n",
      "Dividend      12313 non-null float64\n",
      "Split         12313 non-null float64\n",
      "Adj_Open      12313 non-null float64\n",
      "Adj_High      12313 non-null float64\n",
      "Adj_Low       12313 non-null float64\n",
      "Adj_Close     12313 non-null float64\n",
      "Adj_Volume    12313 non-null float64\n",
      "dtypes: float64(12)\n",
      "memory usage: 1.2 MB\n"
     ]
    }
   ],
   "source": [
    "data.info()"
   ]
  },
  {
   "cell_type": "code",
   "execution_count": 6,
   "metadata": {
    "collapsed": false
   },
   "outputs": [
    {
     "data": {
      "text/html": [
       "<div>\n",
       "<table border=\"1\" class=\"dataframe\">\n",
       "  <thead>\n",
       "    <tr style=\"text-align: right;\">\n",
       "      <th></th>\n",
       "      <th>Open</th>\n",
       "      <th>High</th>\n",
       "      <th>Low</th>\n",
       "      <th>Close</th>\n",
       "      <th>Volume</th>\n",
       "      <th>Dividend</th>\n",
       "      <th>Split</th>\n",
       "      <th>Adj_Open</th>\n",
       "      <th>Adj_High</th>\n",
       "      <th>Adj_Low</th>\n",
       "      <th>Adj_Close</th>\n",
       "      <th>Adj_Volume</th>\n",
       "    </tr>\n",
       "    <tr>\n",
       "      <th>Date</th>\n",
       "      <th></th>\n",
       "      <th></th>\n",
       "      <th></th>\n",
       "      <th></th>\n",
       "      <th></th>\n",
       "      <th></th>\n",
       "      <th></th>\n",
       "      <th></th>\n",
       "      <th></th>\n",
       "      <th></th>\n",
       "      <th></th>\n",
       "      <th></th>\n",
       "    </tr>\n",
       "  </thead>\n",
       "  <tbody>\n",
       "    <tr>\n",
       "      <th>2018-10-15</th>\n",
       "      <td>164.69</td>\n",
       "      <td>165.4700</td>\n",
       "      <td>163.640</td>\n",
       "      <td>163.67</td>\n",
       "      <td>4265932.0</td>\n",
       "      <td>0.0</td>\n",
       "      <td>1.0</td>\n",
       "      <td>164.69</td>\n",
       "      <td>165.4700</td>\n",
       "      <td>163.640</td>\n",
       "      <td>163.67</td>\n",
       "      <td>4265932.0</td>\n",
       "    </tr>\n",
       "    <tr>\n",
       "      <th>2018-10-16</th>\n",
       "      <td>163.44</td>\n",
       "      <td>164.4600</td>\n",
       "      <td>162.900</td>\n",
       "      <td>164.07</td>\n",
       "      <td>4094222.0</td>\n",
       "      <td>0.0</td>\n",
       "      <td>1.0</td>\n",
       "      <td>163.44</td>\n",
       "      <td>164.4600</td>\n",
       "      <td>162.900</td>\n",
       "      <td>164.07</td>\n",
       "      <td>4094222.0</td>\n",
       "    </tr>\n",
       "    <tr>\n",
       "      <th>2018-10-17</th>\n",
       "      <td>164.47</td>\n",
       "      <td>167.7300</td>\n",
       "      <td>164.110</td>\n",
       "      <td>166.77</td>\n",
       "      <td>3608363.0</td>\n",
       "      <td>0.0</td>\n",
       "      <td>1.0</td>\n",
       "      <td>164.47</td>\n",
       "      <td>167.7300</td>\n",
       "      <td>164.110</td>\n",
       "      <td>166.77</td>\n",
       "      <td>3608363.0</td>\n",
       "    </tr>\n",
       "    <tr>\n",
       "      <th>2018-10-18</th>\n",
       "      <td>166.64</td>\n",
       "      <td>167.9938</td>\n",
       "      <td>165.766</td>\n",
       "      <td>166.81</td>\n",
       "      <td>3376605.0</td>\n",
       "      <td>0.0</td>\n",
       "      <td>1.0</td>\n",
       "      <td>166.64</td>\n",
       "      <td>167.9938</td>\n",
       "      <td>165.766</td>\n",
       "      <td>166.81</td>\n",
       "      <td>3376605.0</td>\n",
       "    </tr>\n",
       "    <tr>\n",
       "      <th>2018-10-19</th>\n",
       "      <td>166.39</td>\n",
       "      <td>168.1500</td>\n",
       "      <td>166.300</td>\n",
       "      <td>167.49</td>\n",
       "      <td>3465693.0</td>\n",
       "      <td>0.0</td>\n",
       "      <td>1.0</td>\n",
       "      <td>166.39</td>\n",
       "      <td>168.1500</td>\n",
       "      <td>166.300</td>\n",
       "      <td>167.49</td>\n",
       "      <td>3465693.0</td>\n",
       "    </tr>\n",
       "  </tbody>\n",
       "</table>\n",
       "</div>"
      ],
      "text/plain": [
       "              Open      High      Low   Close     Volume  Dividend  Split  \\\n",
       "Date                                                                        \n",
       "2018-10-15  164.69  165.4700  163.640  163.67  4265932.0       0.0    1.0   \n",
       "2018-10-16  163.44  164.4600  162.900  164.07  4094222.0       0.0    1.0   \n",
       "2018-10-17  164.47  167.7300  164.110  166.77  3608363.0       0.0    1.0   \n",
       "2018-10-18  166.64  167.9938  165.766  166.81  3376605.0       0.0    1.0   \n",
       "2018-10-19  166.39  168.1500  166.300  167.49  3465693.0       0.0    1.0   \n",
       "\n",
       "            Adj_Open  Adj_High  Adj_Low  Adj_Close  Adj_Volume  \n",
       "Date                                                            \n",
       "2018-10-15    164.69  165.4700  163.640     163.67   4265932.0  \n",
       "2018-10-16    163.44  164.4600  162.900     164.07   4094222.0  \n",
       "2018-10-17    164.47  167.7300  164.110     166.77   3608363.0  \n",
       "2018-10-18    166.64  167.9938  165.766     166.81   3376605.0  \n",
       "2018-10-19    166.39  168.1500  166.300     167.49   3465693.0  "
      ]
     },
     "execution_count": 6,
     "metadata": {},
     "output_type": "execute_result"
    }
   ],
   "source": [
    "data.tail()"
   ]
  },
  {
   "cell_type": "code",
   "execution_count": 10,
   "metadata": {
    "collapsed": true
   },
   "outputs": [],
   "source": [
    "data['Weighted Price'] = (data['Open'] + data['Close'])/2"
   ]
  },
  {
   "cell_type": "code",
   "execution_count": 11,
   "metadata": {
    "collapsed": false
   },
   "outputs": [
    {
     "data": {
      "text/html": [
       "<div>\n",
       "<table border=\"1\" class=\"dataframe\">\n",
       "  <thead>\n",
       "    <tr style=\"text-align: right;\">\n",
       "      <th></th>\n",
       "      <th>Open</th>\n",
       "      <th>High</th>\n",
       "      <th>Low</th>\n",
       "      <th>Close</th>\n",
       "      <th>Volume</th>\n",
       "      <th>Dividend</th>\n",
       "      <th>Split</th>\n",
       "      <th>Adj_Open</th>\n",
       "      <th>Adj_High</th>\n",
       "      <th>Adj_Low</th>\n",
       "      <th>Adj_Close</th>\n",
       "      <th>Adj_Volume</th>\n",
       "      <th>Weighted Price</th>\n",
       "    </tr>\n",
       "    <tr>\n",
       "      <th>Date</th>\n",
       "      <th></th>\n",
       "      <th></th>\n",
       "      <th></th>\n",
       "      <th></th>\n",
       "      <th></th>\n",
       "      <th></th>\n",
       "      <th></th>\n",
       "      <th></th>\n",
       "      <th></th>\n",
       "      <th></th>\n",
       "      <th></th>\n",
       "      <th></th>\n",
       "      <th></th>\n",
       "    </tr>\n",
       "  </thead>\n",
       "  <tbody>\n",
       "    <tr>\n",
       "      <th>2018-10-15</th>\n",
       "      <td>164.69</td>\n",
       "      <td>165.4700</td>\n",
       "      <td>163.640</td>\n",
       "      <td>163.67</td>\n",
       "      <td>4265932.0</td>\n",
       "      <td>0.0</td>\n",
       "      <td>1.0</td>\n",
       "      <td>164.69</td>\n",
       "      <td>165.4700</td>\n",
       "      <td>163.640</td>\n",
       "      <td>163.67</td>\n",
       "      <td>4265932.0</td>\n",
       "      <td>164.180</td>\n",
       "    </tr>\n",
       "    <tr>\n",
       "      <th>2018-10-16</th>\n",
       "      <td>163.44</td>\n",
       "      <td>164.4600</td>\n",
       "      <td>162.900</td>\n",
       "      <td>164.07</td>\n",
       "      <td>4094222.0</td>\n",
       "      <td>0.0</td>\n",
       "      <td>1.0</td>\n",
       "      <td>163.44</td>\n",
       "      <td>164.4600</td>\n",
       "      <td>162.900</td>\n",
       "      <td>164.07</td>\n",
       "      <td>4094222.0</td>\n",
       "      <td>163.755</td>\n",
       "    </tr>\n",
       "    <tr>\n",
       "      <th>2018-10-17</th>\n",
       "      <td>164.47</td>\n",
       "      <td>167.7300</td>\n",
       "      <td>164.110</td>\n",
       "      <td>166.77</td>\n",
       "      <td>3608363.0</td>\n",
       "      <td>0.0</td>\n",
       "      <td>1.0</td>\n",
       "      <td>164.47</td>\n",
       "      <td>167.7300</td>\n",
       "      <td>164.110</td>\n",
       "      <td>166.77</td>\n",
       "      <td>3608363.0</td>\n",
       "      <td>165.620</td>\n",
       "    </tr>\n",
       "    <tr>\n",
       "      <th>2018-10-18</th>\n",
       "      <td>166.64</td>\n",
       "      <td>167.9938</td>\n",
       "      <td>165.766</td>\n",
       "      <td>166.81</td>\n",
       "      <td>3376605.0</td>\n",
       "      <td>0.0</td>\n",
       "      <td>1.0</td>\n",
       "      <td>166.64</td>\n",
       "      <td>167.9938</td>\n",
       "      <td>165.766</td>\n",
       "      <td>166.81</td>\n",
       "      <td>3376605.0</td>\n",
       "      <td>166.725</td>\n",
       "    </tr>\n",
       "    <tr>\n",
       "      <th>2018-10-19</th>\n",
       "      <td>166.39</td>\n",
       "      <td>168.1500</td>\n",
       "      <td>166.300</td>\n",
       "      <td>167.49</td>\n",
       "      <td>3465693.0</td>\n",
       "      <td>0.0</td>\n",
       "      <td>1.0</td>\n",
       "      <td>166.39</td>\n",
       "      <td>168.1500</td>\n",
       "      <td>166.300</td>\n",
       "      <td>167.49</td>\n",
       "      <td>3465693.0</td>\n",
       "      <td>166.940</td>\n",
       "    </tr>\n",
       "  </tbody>\n",
       "</table>\n",
       "</div>"
      ],
      "text/plain": [
       "              Open      High      Low   Close     Volume  Dividend  Split  \\\n",
       "Date                                                                        \n",
       "2018-10-15  164.69  165.4700  163.640  163.67  4265932.0       0.0    1.0   \n",
       "2018-10-16  163.44  164.4600  162.900  164.07  4094222.0       0.0    1.0   \n",
       "2018-10-17  164.47  167.7300  164.110  166.77  3608363.0       0.0    1.0   \n",
       "2018-10-18  166.64  167.9938  165.766  166.81  3376605.0       0.0    1.0   \n",
       "2018-10-19  166.39  168.1500  166.300  167.49  3465693.0       0.0    1.0   \n",
       "\n",
       "            Adj_Open  Adj_High  Adj_Low  Adj_Close  Adj_Volume  Weighted Price  \n",
       "Date                                                                            \n",
       "2018-10-15    164.69  165.4700  163.640     163.67   4265932.0         164.180  \n",
       "2018-10-16    163.44  164.4600  162.900     164.07   4094222.0         163.755  \n",
       "2018-10-17    164.47  167.7300  164.110     166.77   3608363.0         165.620  \n",
       "2018-10-18    166.64  167.9938  165.766     166.81   3376605.0         166.725  \n",
       "2018-10-19    166.39  168.1500  166.300     167.49   3465693.0         166.940  "
      ]
     },
     "execution_count": 11,
     "metadata": {},
     "output_type": "execute_result"
    }
   ],
   "source": [
    "data.tail()"
   ]
  },
  {
   "cell_type": "code",
   "execution_count": 12,
   "metadata": {
    "collapsed": false
   },
   "outputs": [
    {
     "data": {
      "text/plain": [
       "<matplotlib.axes._subplots.AxesSubplot at 0xb59166a3c8>"
      ]
     },
     "execution_count": 12,
     "metadata": {},
     "output_type": "execute_result"
    },
    {
     "data": {
      "image/png": "[encoded data removed]",
      "text/plain": [
       "<matplotlib.figure.Figure at 0xb5915ab208>"
      ]
     },
     "metadata": {},
     "output_type": "display_data"
    }
   ],
   "source": [
    "data['Weighted Price'].plot(label = 'Weighted')\n",
    "data['Open'].plot(label = 'Open')\n",
    "data['Close'].plot(label = 'Close')"
   ]
  },
  {
   "cell_type": "code",
   "execution_count": 13,
   "metadata": {
    "collapsed": false
   },
   "outputs": [
    {
     "data": {
      "text/plain": [
       "<matplotlib.axes._subplots.AxesSubplot at 0xb5a1d45908>"
      ]
     },
     "execution_count": 13,
     "metadata": {},
     "output_type": "execute_result"
    },
    {
     "data": {
      "image/png": "[encoded data removed]",
      "text/plain": [
       "<matplotlib.figure.Figure at 0xb5a2651390>"
      ]
     },
     "metadata": {},
     "output_type": "display_data"
    }
   ],
   "source": [
    "data['Weighted Price'].plot(label = 'Weighted')"
   ]
  },
  {
   "cell_type": "code",
   "execution_count": 14,
   "metadata": {
    "collapsed": true
   },
   "outputs": [],
   "source": [
    "data['Weighted Price'].replace(0, np.nan, inplace=True)\n",
    "data['Weighted Price'].fillna(method='ffill', inplace=True)"
   ]
  },
  {
   "cell_type": "code",
   "execution_count": 15,
   "metadata": {
    "collapsed": false
   },
   "outputs": [
    {
     "data": {
      "text/html": [
       "<div>\n",
       "<table border=\"1\" class=\"dataframe\">\n",
       "  <thead>\n",
       "    <tr style=\"text-align: right;\">\n",
       "      <th></th>\n",
       "      <th>Open</th>\n",
       "      <th>High</th>\n",
       "      <th>Low</th>\n",
       "      <th>Close</th>\n",
       "      <th>Volume</th>\n",
       "      <th>Dividend</th>\n",
       "      <th>Split</th>\n",
       "      <th>Adj_Open</th>\n",
       "      <th>Adj_High</th>\n",
       "      <th>Adj_Low</th>\n",
       "      <th>Adj_Close</th>\n",
       "      <th>Adj_Volume</th>\n",
       "      <th>Weighted Price</th>\n",
       "    </tr>\n",
       "    <tr>\n",
       "      <th>Date</th>\n",
       "      <th></th>\n",
       "      <th></th>\n",
       "      <th></th>\n",
       "      <th></th>\n",
       "      <th></th>\n",
       "      <th></th>\n",
       "      <th></th>\n",
       "      <th></th>\n",
       "      <th></th>\n",
       "      <th></th>\n",
       "      <th></th>\n",
       "      <th></th>\n",
       "      <th></th>\n",
       "    </tr>\n",
       "  </thead>\n",
       "  <tbody>\n",
       "    <tr>\n",
       "      <th>1970-01-02</th>\n",
       "      <td>43.00</td>\n",
       "      <td>44.25</td>\n",
       "      <td>43.0</td>\n",
       "      <td>44.25</td>\n",
       "      <td>23256.0</td>\n",
       "      <td>0.0</td>\n",
       "      <td>1.0</td>\n",
       "      <td>0.197684</td>\n",
       "      <td>0.203430</td>\n",
       "      <td>0.197684</td>\n",
       "      <td>0.203430</td>\n",
       "      <td>2825604.0</td>\n",
       "      <td>43.625</td>\n",
       "    </tr>\n",
       "    <tr>\n",
       "      <th>1970-01-05</th>\n",
       "      <td>44.25</td>\n",
       "      <td>45.00</td>\n",
       "      <td>44.0</td>\n",
       "      <td>45.00</td>\n",
       "      <td>18193.0</td>\n",
       "      <td>0.0</td>\n",
       "      <td>1.0</td>\n",
       "      <td>0.203430</td>\n",
       "      <td>0.206878</td>\n",
       "      <td>0.202281</td>\n",
       "      <td>0.206878</td>\n",
       "      <td>2210449.5</td>\n",
       "      <td>44.625</td>\n",
       "    </tr>\n",
       "    <tr>\n",
       "      <th>1970-01-06</th>\n",
       "      <td>45.00</td>\n",
       "      <td>45.75</td>\n",
       "      <td>45.0</td>\n",
       "      <td>45.25</td>\n",
       "      <td>16059.0</td>\n",
       "      <td>0.0</td>\n",
       "      <td>1.0</td>\n",
       "      <td>0.206878</td>\n",
       "      <td>0.210326</td>\n",
       "      <td>0.206878</td>\n",
       "      <td>0.208028</td>\n",
       "      <td>1951168.5</td>\n",
       "      <td>45.125</td>\n",
       "    </tr>\n",
       "    <tr>\n",
       "      <th>1970-01-07</th>\n",
       "      <td>45.25</td>\n",
       "      <td>45.75</td>\n",
       "      <td>45.0</td>\n",
       "      <td>45.00</td>\n",
       "      <td>22459.0</td>\n",
       "      <td>0.0</td>\n",
       "      <td>1.0</td>\n",
       "      <td>0.208028</td>\n",
       "      <td>0.210326</td>\n",
       "      <td>0.206878</td>\n",
       "      <td>0.206878</td>\n",
       "      <td>2728768.5</td>\n",
       "      <td>45.125</td>\n",
       "    </tr>\n",
       "    <tr>\n",
       "      <th>1970-01-08</th>\n",
       "      <td>45.00</td>\n",
       "      <td>45.38</td>\n",
       "      <td>45.0</td>\n",
       "      <td>45.00</td>\n",
       "      <td>18456.0</td>\n",
       "      <td>0.0</td>\n",
       "      <td>1.0</td>\n",
       "      <td>0.206878</td>\n",
       "      <td>0.208625</td>\n",
       "      <td>0.206878</td>\n",
       "      <td>0.206878</td>\n",
       "      <td>2242404.0</td>\n",
       "      <td>45.000</td>\n",
       "    </tr>\n",
       "  </tbody>\n",
       "</table>\n",
       "</div>"
      ],
      "text/plain": [
       "             Open   High   Low  Close   Volume  Dividend  Split  Adj_Open  \\\n",
       "Date                                                                        \n",
       "1970-01-02  43.00  44.25  43.0  44.25  23256.0       0.0    1.0  0.197684   \n",
       "1970-01-05  44.25  45.00  44.0  45.00  18193.0       0.0    1.0  0.203430   \n",
       "1970-01-06  45.00  45.75  45.0  45.25  16059.0       0.0    1.0  0.206878   \n",
       "1970-01-07  45.25  45.75  45.0  45.00  22459.0       0.0    1.0  0.208028   \n",
       "1970-01-08  45.00  45.38  45.0  45.00  18456.0       0.0    1.0  0.206878   \n",
       "\n",
       "            Adj_High   Adj_Low  Adj_Close  Adj_Volume  Weighted Price  \n",
       "Date                                                                   \n",
       "1970-01-02  0.203430  0.197684   0.203430   2825604.0          43.625  \n",
       "1970-01-05  0.206878  0.202281   0.206878   2210449.5          44.625  \n",
       "1970-01-06  0.210326  0.206878   0.208028   1951168.5          45.125  \n",
       "1970-01-07  0.210326  0.206878   0.206878   2728768.5          45.125  \n",
       "1970-01-08  0.208625  0.206878   0.206878   2242404.0          45.000  "
      ]
     },
     "execution_count": 15,
     "metadata": {},
     "output_type": "execute_result"
    }
   ],
   "source": [
    "data.head()"
   ]
  },
  {
   "cell_type": "code",
   "execution_count": 16,
   "metadata": {
    "collapsed": true
   },
   "outputs": [],
   "source": [
    "from sklearn.preprocessing import MinMaxScaler\n",
    "values = data['Weighted Price'].values.reshape(-1,1)\n",
    "values = values.astype('float32')\n",
    "scaler = MinMaxScaler(feature_range=(0, 1))\n",
    "scaled = scaler.fit_transform(values)"
   ]
  },
  {
   "cell_type": "code",
   "execution_count": 17,
   "metadata": {
    "collapsed": false
   },
   "outputs": [
    {
     "name": "stdout",
     "output_type": "stream",
     "text": [
      "8619 3694\n"
     ]
    }
   ],
   "source": [
    "train_size = int(len(scaled) * 0.7)\n",
    "test_size = len(scaled) - train_size\n",
    "train, test = scaled[0:train_size,:], scaled[train_size:len(scaled),:]\n",
    "print(len(train), len(test))"
   ]
  },
  {
   "cell_type": "code",
   "execution_count": 18,
   "metadata": {
    "collapsed": false
   },
   "outputs": [
    {
     "data": {
      "text/plain": [
       "array([[0.1884434 ],\n",
       "       [0.19448133],\n",
       "       [0.1975003 ],\n",
       "       ...,\n",
       "       [0.08742905],\n",
       "       [0.08821398],\n",
       "       [0.08933099]], dtype=float32)"
      ]
     },
     "execution_count": 18,
     "metadata": {},
     "output_type": "execute_result"
    }
   ],
   "source": [
    "train"
   ]
  },
  {
   "cell_type": "code",
   "execution_count": 19,
   "metadata": {
    "collapsed": false
   },
   "outputs": [
    {
     "data": {
      "text/plain": [
       "array([0.19448133], dtype=float32)"
      ]
     },
     "execution_count": 19,
     "metadata": {},
     "output_type": "execute_result"
    }
   ],
   "source": [
    "train.shape\n",
    "len(train)\n",
    "train[1:2,0]"
   ]
  },
  {
   "cell_type": "code",
   "execution_count": 20,
   "metadata": {
    "collapsed": true
   },
   "outputs": [],
   "source": [
    "def create_dataset(dataset, look_back=1):\n",
    "    dataX, dataY = [], []\n",
    "    for i in range(len(dataset) - look_back):\n",
    "        a = dataset[i:(i + look_back), 0]\n",
    "        dataX.append(a)\n",
    "        dataY.append(dataset[i + look_back, 0])\n",
    "    print(len(dataY))\n",
    "    return np.array(dataX), np.array(dataY)"
   ]
  },
  {
   "cell_type": "code",
   "execution_count": 21,
   "metadata": {
    "collapsed": false
   },
   "outputs": [
    {
     "name": "stdout",
     "output_type": "stream",
     "text": [
      "8618\n",
      "3693\n"
     ]
    }
   ],
   "source": [
    "look_back = 1\n",
    "trainX, trainY = create_dataset(train, look_back)\n",
    "testX, testY = create_dataset(test, look_back)"
   ]
  },
  {
   "cell_type": "code",
   "execution_count": 22,
   "metadata": {
    "collapsed": true
   },
   "outputs": [],
   "source": [
    "trainX = np.reshape(trainX, (trainX.shape[0], 1, trainX.shape[1]))\n",
    "testX = np.reshape(testX, (testX.shape[0], 1, testX.shape[1]))\n"
   ]
  },
  {
   "cell_type": "code",
   "execution_count": 23,
   "metadata": {
    "collapsed": true
   },
   "outputs": [],
   "source": [
    "model = Sequential()\n",
    "model.add(LSTM(100, input_shape=(trainX.shape[1], trainX.shape[2])))\n",
    "model.add(Dense(1))\n",
    "model.compile(loss='mae', optimizer='adam')\n",
    "history = model.fit(trainX, trainY, epochs=300, batch_size=100, validation_data=(testX, testY), verbose=0, shuffle=False)"
   ]
  },
  {
   "cell_type": "code",
   "execution_count": 24,
   "metadata": {
    "collapsed": false
   },
   "outputs": [
    {
     "data": {
      "image/png": "[encoded data removed]",
      "text/plain": [
       "<matplotlib.figure.Figure at 0xb5a29cb978>"
      ]
     },
     "metadata": {},
     "output_type": "display_data"
    }
   ],
   "source": [
    "pyplot.plot(history.history['loss'], label='train')\n",
    "pyplot.plot(history.history['val_loss'], label='test')\n",
    "pyplot.legend()\n",
    "pyplot.show()"
   ]
  },
  {
   "cell_type": "code",
   "execution_count": 25,
   "metadata": {
    "collapsed": false
   },
   "outputs": [
    {
     "data": {
      "image/png": "[encoded data removed]",
      "text/plain": [
       "<matplotlib.figure.Figure at 0xb5a1cfecc0>"
      ]
     },
     "metadata": {},
     "output_type": "display_data"
    }
   ],
   "source": [
    "yhat = model.predict(testX)\n",
    "pyplot.plot(yhat, label='predict')\n",
    "pyplot.plot(testY, label='true')\n",
    "pyplot.legend()\n",
    "pyplot.show()"
   ]
  },
  {
   "cell_type": "code",
   "execution_count": 26,
   "metadata": {
    "collapsed": true
   },
   "outputs": [],
   "source": [
    "yhat_inverse = scaler.inverse_transform(yhat.reshape(-1, 1))\n",
    "testY_inverse = scaler.inverse_transform(testY.reshape(-1, 1))"
   ]
  },
  {
   "cell_type": "code",
   "execution_count": 27,
   "metadata": {
    "collapsed": false
   },
   "outputs": [
    {
     "name": "stdout",
     "output_type": "stream",
     "text": [
      "Test RMSE: 0.989\n"
     ]
    }
   ],
   "source": [
    "rmse = sqrt(mean_squared_error(testY_inverse, yhat_inverse))\n",
    "print('Test RMSE: %.3f' % rmse)"
   ]
  },
  {
   "cell_type": "code",
   "execution_count": 28,
   "metadata": {
    "collapsed": false
   },
   "outputs": [
    {
     "data": {
      "image/png": "[encoded data removed]",
      "text/plain": [
       "<matplotlib.figure.Figure at 0xb5a9857390>"
      ]
     },
     "metadata": {},
     "output_type": "display_data"
    }
   ],
   "source": [
    "pyplot.plot(yhat_inverse, label='predict')\n",
    "pyplot.plot(testY_inverse, label='actual', alpha=0.5)\n",
    "pyplot.legend()\n",
    "pyplot.show()"
   ]
  },
  {
   "cell_type": "code",
   "execution_count": 29,
   "metadata": {
    "collapsed": true
   },
   "outputs": [],
   "source": [
    "predictDates = data.tail(len(testX)).index"
   ]
  },
  {
   "cell_type": "code",
   "execution_count": 30,
   "metadata": {
    "collapsed": false
   },
   "outputs": [],
   "source": [
    "testY_reshape = testY_inverse.reshape(len(testY_inverse))\n",
    "yhat_reshape = yhat_inverse.reshape(len(yhat_inverse))"
   ]
  },
  {
   "cell_type": "code",
   "execution_count": 31,
   "metadata": {
    "collapsed": false
   },
   "outputs": [
    {
     "data": {
      "text/plain": [
       "<matplotlib.axes._subplots.AxesSubplot at 0xb5a987fd68>"
      ]
     },
     "execution_count": 31,
     "metadata": {},
     "output_type": "execute_result"
    },
    {
     "data": {
      "image/png": "[encoded data removed]",
      "text/plain": [
       "<matplotlib.figure.Figure at 0xb5a9892128>"
      ]
     },
     "metadata": {},
     "output_type": "display_data"
    }
   ],
   "source": [
    "sns.heatmap(data.corr(), annot=True, cmap='RdYlGn', linewidths=0.1, vmin=0)"
   ]
  },
  {
   "cell_type": "code",
   "execution_count": 32,
   "metadata": {
    "collapsed": true
   },
   "outputs": [],
   "source": [
    "def series_to_supervised(data, n_in=1, n_out=1, dropnan=True):\n",
    "    n_vars = 1 if type(data) is list else data.shape[1]\n",
    "    df = pd.DataFrame(data)\n",
    "    cols, names = list(), list()\n",
    "    # input sequence (t-n, ... t-1)\n",
    "    for i in range(n_in, 0, -1):\n",
    "        cols.append(df.shift(i))\n",
    "        names += [('var%d(t-%d)' % (j+1, i)) for j in range(n_vars)]\n",
    "    # forecast sequence (t, t+1, ... t+n)\n",
    "    for i in range(0, n_out):\n",
    "        cols.append(df.shift(-i))\n",
    "        if i == 0:\n",
    "            names += [('var%d(t)' % (j+1)) for j in range(n_vars)]\n",
    "        else:\n",
    "            names += [('var%d(t+%d)' % (j+1, i)) for j in range(n_vars)]\n",
    "    # put it all together\n",
    "    agg = pd.concat(cols, axis=1)\n",
    "    agg.columns = names\n",
    "    # drop rows with NaN values\n",
    "    if dropnan:\n",
    "        agg.dropna(inplace=True)\n",
    "    return agg"
   ]
  },
  {
   "cell_type": "code",
   "execution_count": 33,
   "metadata": {
    "collapsed": true
   },
   "outputs": [],
   "source": [
    "values = data[['Weighted Price'] + ['Volume']].values\n",
    "values = values.astype('float32')"
   ]
  },
  {
   "cell_type": "code",
   "execution_count": 34,
   "metadata": {
    "collapsed": false
   },
   "outputs": [
    {
     "data": {
      "text/plain": [
       "array([[4.362500e+01, 2.325600e+04],\n",
       "       [4.462500e+01, 1.819300e+04],\n",
       "       [4.512500e+01, 1.605900e+04],\n",
       "       ...,\n",
       "       [1.656200e+02, 3.608363e+06],\n",
       "       [1.667250e+02, 3.376605e+06],\n",
       "       [1.669400e+02, 3.465693e+06]], dtype=float32)"
      ]
     },
     "execution_count": 34,
     "metadata": {},
     "output_type": "execute_result"
    }
   ],
   "source": [
    "values"
   ]
  },
  {
   "cell_type": "code",
   "execution_count": 35,
   "metadata": {
    "collapsed": true
   },
   "outputs": [],
   "source": [
    "scaler = MinMaxScaler(feature_range=(0, 1))\n",
    "scaled = scaler.fit_transform(values)"
   ]
  },
  {
   "cell_type": "code",
   "execution_count": 36,
   "metadata": {
    "collapsed": false
   },
   "outputs": [
    {
     "data": {
      "text/html": [
       "<div>\n",
       "<table border=\"1\" class=\"dataframe\">\n",
       "  <thead>\n",
       "    <tr style=\"text-align: right;\">\n",
       "      <th></th>\n",
       "      <th>var1(t-1)</th>\n",
       "      <th>var2(t-1)</th>\n",
       "      <th>var1(t)</th>\n",
       "      <th>var2(t)</th>\n",
       "    </tr>\n",
       "  </thead>\n",
       "  <tbody>\n",
       "    <tr>\n",
       "      <th>1</th>\n",
       "      <td>0.188443</td>\n",
       "      <td>0.000253</td>\n",
       "      <td>0.194481</td>\n",
       "      <td>0.000194</td>\n",
       "    </tr>\n",
       "    <tr>\n",
       "      <th>2</th>\n",
       "      <td>0.194481</td>\n",
       "      <td>0.000194</td>\n",
       "      <td>0.197500</td>\n",
       "      <td>0.000170</td>\n",
       "    </tr>\n",
       "    <tr>\n",
       "      <th>3</th>\n",
       "      <td>0.197500</td>\n",
       "      <td>0.000170</td>\n",
       "      <td>0.197500</td>\n",
       "      <td>0.000243</td>\n",
       "    </tr>\n",
       "    <tr>\n",
       "      <th>4</th>\n",
       "      <td>0.197500</td>\n",
       "      <td>0.000243</td>\n",
       "      <td>0.196746</td>\n",
       "      <td>0.000197</td>\n",
       "    </tr>\n",
       "    <tr>\n",
       "      <th>5</th>\n",
       "      <td>0.196746</td>\n",
       "      <td>0.000197</td>\n",
       "      <td>0.192972</td>\n",
       "      <td>0.000296</td>\n",
       "    </tr>\n",
       "  </tbody>\n",
       "</table>\n",
       "</div>"
      ],
      "text/plain": [
       "   var1(t-1)  var2(t-1)   var1(t)   var2(t)\n",
       "1   0.188443   0.000253  0.194481  0.000194\n",
       "2   0.194481   0.000194  0.197500  0.000170\n",
       "3   0.197500   0.000170  0.197500  0.000243\n",
       "4   0.197500   0.000243  0.196746  0.000197\n",
       "5   0.196746   0.000197  0.192972  0.000296"
      ]
     },
     "execution_count": 36,
     "metadata": {},
     "output_type": "execute_result"
    }
   ],
   "source": [
    "reframed = series_to_supervised(scaled, 1, 1)\n",
    "reframed.head()"
   ]
  },
  {
   "cell_type": "code",
   "execution_count": 37,
   "metadata": {
    "collapsed": false
   },
   "outputs": [
    {
     "name": "stdout",
     "output_type": "stream",
     "text": [
      "   var1(t-1)  var2(t-1)   var1(t)\n",
      "1   0.188443   0.000253  0.194481\n",
      "2   0.194481   0.000194  0.197500\n",
      "3   0.197500   0.000170  0.197500\n",
      "4   0.197500   0.000243  0.196746\n",
      "5   0.196746   0.000197  0.192972\n"
     ]
    }
   ],
   "source": [
    "reframed.drop(reframed.columns[[3]], axis=1, inplace=True)\n",
    "print(reframed.head())"
   ]
  },
  {
   "cell_type": "code",
   "execution_count": 38,
   "metadata": {
    "collapsed": false
   },
   "outputs": [
    {
     "name": "stdout",
     "output_type": "stream",
     "text": [
      "(8618, 1, 2) (8618,) (3694, 1, 2) (3694,)\n"
     ]
    }
   ],
   "source": [
    "values = reframed.values\n",
    "n_train_hours = int(len(values) * 0.7)\n",
    "train = values[:n_train_hours, :]\n",
    "test = values[n_train_hours:, :]\n",
    "# split into input and outputs\n",
    "train_X, train_y = train[:, :-1], train[:, -1]\n",
    "test_X, test_y = test[:, :-1], test[:, -1]\n",
    "# reshape input to be 3D [samples, timesteps, features]\n",
    "train_X = train_X.reshape((train_X.shape[0], 1, train_X.shape[1]))\n",
    "test_X = test_X.reshape((test_X.shape[0], 1, test_X.shape[1]))\n",
    "print(train_X.shape, train_y.shape, test_X.shape, test_y.shape)"
   ]
  },
  {
   "cell_type": "code",
   "execution_count": 39,
   "metadata": {
    "collapsed": true
   },
   "outputs": [],
   "source": [
    "multi_model = Sequential()\n",
    "multi_model.add(LSTM(100, input_shape=(train_X.shape[1], train_X.shape[2])))\n",
    "multi_model.add(Dense(1))\n",
    "multi_model.compile(loss='mae', optimizer='adam')\n",
    "multi_history = multi_model.fit(train_X, train_y, epochs=300, batch_size=100, validation_data=(test_X, test_y), verbose=0, shuffle=False)"
   ]
  },
  {
   "cell_type": "code",
   "execution_count": 40,
   "metadata": {
    "collapsed": false
   },
   "outputs": [
    {
     "data": {
      "image/png": "[encoded data removed]",
      "text/plain": [
       "<matplotlib.figure.Figure at 0xb5a9788b00>"
      ]
     },
     "metadata": {},
     "output_type": "display_data"
    }
   ],
   "source": [
    "pyplot.plot(multi_history.history['loss'], label='multi_train')\n",
    "pyplot.plot(multi_history.history['val_loss'], label='multi_test')\n",
    "pyplot.legend()\n",
    "pyplot.show()"
   ]
  },
  {
   "cell_type": "code",
   "execution_count": 41,
   "metadata": {
    "collapsed": false
   },
   "outputs": [
    {
     "data": {
      "image/png": "[encoded data removed]",
      "text/plain": [
       "<matplotlib.figure.Figure at 0xb5a9c78240>"
      ]
     },
     "metadata": {},
     "output_type": "display_data"
    }
   ],
   "source": [
    "yhat = multi_model.predict(test_X)\n",
    "pyplot.plot(yhat, label='predict')\n",
    "pyplot.plot(test_y, label='true')\n",
    "pyplot.legend()\n",
    "pyplot.show()"
   ]
  },
  {
   "cell_type": "code",
   "execution_count": 42,
   "metadata": {
    "collapsed": true
   },
   "outputs": [],
   "source": [
    "test_X = test_X.reshape((test_X.shape[0], test_X.shape[2]))\n",
    "# invert scaling for forecast\n",
    "inv_yhat = concatenate((yhat, test_X[:, 1:]), axis=1)\n",
    "inv_yhat = scaler.inverse_transform(inv_yhat)\n",
    "inv_yhat = inv_yhat[:,0]\n",
    "# invert scaling for actual\n",
    "test_y = test_y.reshape((len(test_y), 1))\n",
    "inv_y = concatenate((test_y, test_X[:, 1:]), axis=1)\n",
    "inv_y = scaler.inverse_transform(inv_y)\n",
    "inv_y = inv_y[:,0]"
   ]
  },
  {
   "cell_type": "code",
   "execution_count": 43,
   "metadata": {
    "collapsed": false
   },
   "outputs": [
    {
     "name": "stdout",
     "output_type": "stream",
     "text": [
      "Test RMSE: 0.976\n"
     ]
    }
   ],
   "source": [
    "rmse = sqrt(mean_squared_error(inv_y, inv_yhat))\n",
    "print('Test RMSE: %.3f' % rmse)"
   ]
  },
  {
   "cell_type": "code",
   "execution_count": 44,
   "metadata": {
    "collapsed": false
   },
   "outputs": [],
   "source": [
    "actual_chart = go.Scatter(x=predictDates, y=inv_y, name= 'Actual Price')\n",
    "multi_predict_chart = go.Scatter(x=predictDates, y=inv_yhat, name= 'Multi Predict Price')\n",
    "predict_chart = go.Scatter(x=predictDates, y=yhat_reshape, name= 'Predict Price')"
   ]
  },
  {
   "cell_type": "code",
   "execution_count": 52,
   "metadata": {
    "collapsed": false
   },
   "outputs": [],
   "source": [
    "import matplotlib.pyplot as pltt"
   ]
  },
  {
   "cell_type": "code",
   "execution_count": 53,
   "metadata": {
    "collapsed": false
   },
   "outputs": [
    {
     "data": {
      "text/plain": [
       "[<matplotlib.lines.Line2D at 0xb5aca55780>]"
      ]
     },
     "execution_count": 53,
     "metadata": {},
     "output_type": "execute_result"
    },
    {
     "data": {
      "image/png": "[encoded data removed]",
      "text/plain": [
       "<matplotlib.figure.Figure at 0xb5ac5701d0>"
      ]
     },
     "metadata": {},
     "output_type": "display_data"
    }
   ],
   "source": [
    "pltt.plot(inv_y, 'r', label = 'Actual' )\n",
    "pltt.plot(inv_yhat, 'g', label = 'Multi' )\n",
    "pltt.plot(inv_y, 'b', label = 'Mono' )"
   ]
  },
  {
   "cell_type": "code",
   "execution_count": 54,
   "metadata": {
    "collapsed": false
   },
   "outputs": [],
   "source": [
    "from plotly import __version__\n",
    "from plotly.offline import download_plotlyjs, init_notebook_mode, plot, iplot"
   ]
  },
  {
   "cell_type": "code",
   "execution_count": null,
   "metadata": {
    "collapsed": false
   },
   "outputs": [],
   "source": [
    "plotly.tools.set_credentials_file(username='', api_key='')"
   ]
  },
  {
   "cell_type": "code",
   "execution_count": null,
   "metadata": {
    "collapsed": false
   },
   "outputs": [],
   "source": [
    "actual_chart = go.Scatter(x=predictDates, y=inv_y, name= 'Actual Price')\n",
    "multi_predict_chart = go.Scatter(x=predictDates, y=inv_yhat, name= 'Multi Predict Price')\n",
    "predict_chart = go.Scatter(x=predictDates, y=yhat_reshape, name= 'Predict Price')\n",
    "py.iplot([predict_chart, multi_predict_chart, actual_chart])"
   ]
  },
  {
   "cell_type": "code",
   "execution_count": null,
   "metadata": {
    "collapsed": true
   },
   "outputs": [],
   "source": []
  }
 ],
 "metadata": {
  "kernelspec": {
   "display_name": "Python [Root]",
   "language": "python",
   "name": "Python [Root]"
  },
  "language_info": {
   "codemirror_mode": {
    "name": "ipython",
    "version": 3
   },
   "file_extension": ".py",
   "mimetype": "text/x-python",
   "name": "python",
   "nbconvert_exporter": "python",
   "pygments_lexer": "ipython3",
   "version": "3.5.2"
  }
 },
 "nbformat": 4,
 "nbformat_minor": 0
}
